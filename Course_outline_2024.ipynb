{
  "nbformat": 4,
  "nbformat_minor": 0,
  "metadata": {
    "colab": {
      "provenance": [],
      "authorship_tag": "ABX9TyPzQ/svdBoRnf0sAjl9NrjT"
    },
    "kernelspec": {
      "name": "python3",
      "display_name": "Python 3"
    },
    "language_info": {
      "name": "python"
    }
  },
  "cells": [
    {
      "cell_type": "markdown",
      "source": [
        "# PHY 308: Introduction to Solid State Physics\n",
        "* Course Instructor: S. J. Sifuna, Ph.D.\n",
        "* Lecture Time: Every Monday at 8.00 am to 10.00 am\n",
        "* Lecture room: OH 20\n",
        "* Academic Year 2023/2024 -Semester 2: Jan - Apr 2024\n",
        "\n",
        "\n",
        "\n",
        "\n"
      ],
      "metadata": {
        "id": "U_gbAWiBuGI-"
      }
    },
    {
      "cell_type": "markdown",
      "source": [
        "## Purpose of the course\n",
        "To introduce the student to macroscopic and microscopic properties of solids.\n"
      ],
      "metadata": {
        "id": "uOwxoZ031Xz4"
      }
    },
    {
      "cell_type": "markdown",
      "source": [
        "## Objectives of this Course\n",
        "At the end of the course students should be able to:\n",
        "* Distinguish between crystal and crystal solid materials,\n",
        "* Define solid state terminologies,\n",
        "* Classify solid materials into conductors, insulators and semiconductors,\n",
        "* Describe the band structure theory of crystals.\n"
      ],
      "metadata": {
        "id": "caTGOD591_Tv"
      }
    },
    {
      "cell_type": "markdown",
      "source": [
        "## Course Outline:\n",
        "Crystal Structure and Bonding Types:\n",
        "\n",
        "1.   Electronic Structure in Crystals:\n",
        "        *   Bonding types\n",
        "        *   Crystal structures\n",
        "2. Models of Electron Behavior:\n",
        "    *   Electrons in crystals\n",
        "    *   Crystal potential\n",
        "    *   Reciprocal space\n",
        "    *   Brillouin zones\n",
        "3.   Quantum Mechanics in Crystals:\n",
        "    * Crystal wave functions\n",
        "    * Bloch theorem\n",
        "    * Eigenvalues of the crystal wave equation\n",
        "    * Energy band structure\n",
        "4.   Models of Electron Behavior:\n",
        "    * Nearly free electron model\n",
        "    * Conductors, insulators, or semiconductors\n",
        "5.   Charge Carriers and Dynamics:\n",
        "    * Dynamics of electrons in a crystal lattice\n",
        "    * Effective mass and the hole concept\n",
        "6.   Semiconductor Physics:\n",
        "    * Density of states function\n",
        "    * Electron statistics\n",
        "    * Fermi function\n",
        "    * Fermi level\n",
        "    * Intrinsic and extrinsic semiconductors\n",
        "    * Metal-semiconductor contacts\n",
        "    * Contact potential\n",
        "    * Depletion layer and junction rectifiers\n",
        "7.   Transport Phenomena and Hall Effect:\n",
        "    * Electron transport phenomena\n",
        "    * Electrical and thermal current densities\n",
        "    * Boltzmann transport equation\n",
        "    * Hall effect in metals and semiconductors\n",
        "\n",
        "\n",
        "\n",
        "\n",
        "\n"
      ],
      "metadata": {
        "id": "w-SAVkSovGD0"
      }
    },
    {
      "cell_type": "markdown",
      "source": [
        "## Teaching Methodologies:\n",
        "* Lecturing\n",
        "* Tutorial\n",
        "* Class discussion\n",
        "* Demonstrations and group work    \t\t   \n"
      ],
      "metadata": {
        "id": "kFdzAoCj6hX1"
      }
    },
    {
      "cell_type": "markdown",
      "source": [
        "## Project work:\n",
        "We will use Python package to construct Brillouin zones in three- and two-dimensional space for a given crystal structure."
      ],
      "metadata": {
        "id": "bcNNEVHn7B-f"
      }
    },
    {
      "cell_type": "markdown",
      "source": [
        "##  Course Assessment\n",
        "* Two sit in CATs totaling to 15%\n",
        "* Project Work will total to 15%\n",
        "* Exam will be out of 70%"
      ],
      "metadata": {
        "id": "ZlT7g3wf8Ny8"
      }
    },
    {
      "cell_type": "markdown",
      "source": [
        "## Reference Books I will use:\n",
        "* Kittel, C. (1995). Introduction to Solid State Physics. (7th Ed.). New York: Wiley.\n",
        "* Turton, R. (2000). The physics of solids. Oxford University Press"
      ],
      "metadata": {
        "id": "6lDn3MJV8pU9"
      }
    }
  ]
}
