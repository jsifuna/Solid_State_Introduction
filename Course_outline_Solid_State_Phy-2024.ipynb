{
  "nbformat": 4,
  "nbformat_minor": 0,
  "metadata": {
    "colab": {
      "provenance": [],
      "authorship_tag": "ABX9TyN16ZKlNPloTcf0abGA0MWv"
    },
    "kernelspec": {
      "name": "python3",
      "display_name": "Python 3"
    },
    "language_info": {
      "name": "python"
    }
  },
  "cells": [
    {
      "cell_type": "markdown",
      "source": [
        "# PHY 308: Introduction to Solid State Physics\n",
        "* Course Instructor: S. J. Sifuna, Ph.D.\n",
        "* Lecture Time: Every Monday at 8.00 am to 10.00 am\n",
        "* Lecture room: OH 20\n",
        "\n",
        "\n",
        "\n",
        "\n"
      ],
      "metadata": {
        "id": "U_gbAWiBuGI-"
      }
    },
    {
      "cell_type": "markdown",
      "source": [
        "## Purpose of the course\n",
        "To introduce the student to macroscopic and microscopic properties of solids.\n"
      ],
      "metadata": {
        "id": "uOwxoZ031Xz4"
      }
    },
    {
      "cell_type": "markdown",
      "source": [
        "## Objectives of this Course\n",
        "At the end of the course students should be able to:\n",
        "* Distinguish between crystal and crystal solid materials,\n",
        "* Define solid state terminologies,\n",
        "* Classify solid materials into conductors, insulators and semiconductors,\n",
        "* Describe the band structure theory of crystals.\n"
      ],
      "metadata": {
        "id": "caTGOD591_Tv"
      }
    },
    {
      "cell_type": "markdown",
      "source": [
        "# Course Outline:\n",
        "    * Crystal Structure and Bonding Types:\n",
        "        ** Bonding types\n",
        "        ** Crystal structures\n",
        "\n",
        "    * Electronic Structure in Crystals:\n",
        "        ** Electrons in crystals\n",
        "        ** Crystal potential\n",
        "        ** Reciprocal space\n",
        "        ** Brillouin zones\n",
        "\n",
        "    * Quantum Mechanics in Crystals:\n",
        "        ** Crystal wave functions\n",
        "        ** Block theorem\n",
        "        ** Eigenvalues of the crystal wave equation\n",
        "        ** Energy band structure\n",
        "\n",
        "    * Models of Electron Behavior:\n",
        "        ** Nearly free electron model\n",
        "        ** Conductors, insulators, or semiconductors\n",
        "\n",
        "    * Charge Carriers and Dynamics:\n",
        "        ** Dynamics of electrons in a crystal lattice\n",
        "        ** Effective mass and the hole concept\n",
        "\n",
        "    * Semiconductor Physics:\n",
        "        ** Density of states function\n",
        "        ** Electron statistics\n",
        "        ** Fermi function\n",
        "        ** Fermi level\n",
        "        ** Intrinsic and extrinsic semiconductors\n",
        "        ** Metal-semiconductor contacts\n",
        "        ** Contact potential\n",
        "        ** Depletion layer and junction rectifiers\n",
        "\n",
        "    * Transport Phenomena and Hall Effect:\n",
        "        ** Electron transport phenomena\n",
        "        ** Electrical and thermal current densities\n",
        "        ** Boltzmann transport equation\n",
        "        ** Hall effect in metals and semiconductors"
      ],
      "metadata": {
        "id": "w-SAVkSovGD0"
      }
    },
    {
      "cell_type": "markdown",
      "source": [
        "# Assesment\n",
        "The course will be examined as follows:"
      ],
      "metadata": {
        "id": "bkLYidQ2zmur"
      }
    }
  ]
}